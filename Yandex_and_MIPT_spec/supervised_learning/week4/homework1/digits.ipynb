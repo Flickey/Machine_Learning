{
 "cells": [
  {
   "cell_type": "code",
   "execution_count": 21,
   "metadata": {
    "collapsed": false
   },
   "outputs": [
    {
     "name": "stdout",
     "output_type": "stream",
     "text": [
      "Populating the interactive namespace from numpy and matplotlib\n"
     ]
    }
   ],
   "source": [
    "%pylab inline"
   ]
  },
  {
   "cell_type": "code",
   "execution_count": 22,
   "metadata": {
    "collapsed": false
   },
   "outputs": [],
   "source": [
    "from sklearn import ensemble, cross_validation, learning_curve, metrics,tree\n",
    "from sklearn.datasets import load_digits\n",
    "import matplotlib\n",
    "from matplotlib import pyplot as plt\n",
    "import numpy as np\n",
    "import pandas as pd"
   ]
  },
  {
   "cell_type": "code",
   "execution_count": 2,
   "metadata": {
    "collapsed": false
   },
   "outputs": [],
   "source": [
    "digits = load_digits()"
   ]
  },
  {
   "cell_type": "code",
   "execution_count": 3,
   "metadata": {
    "collapsed": false
   },
   "outputs": [
    {
     "data": {
      "text/plain": [
       "8"
      ]
     },
     "execution_count": 3,
     "metadata": {},
     "output_type": "execute_result"
    }
   ],
   "source": [
    "X = digits.data\n",
    "y = digits.target\n",
    "count_features = int(X.shape[1]**0.5)\n",
    "count_features"
   ]
  },
  {
   "cell_type": "code",
   "execution_count": 4,
   "metadata": {
    "collapsed": false
   },
   "outputs": [
    {
     "name": "stdout",
     "output_type": "stream",
     "text": [
      "Ответ на первый вопрос:  0.834244524323\n",
      "CPU times: user 217 ms, sys: 6.6 ms, total: 224 ms\n",
      "Wall time: 228 ms\n"
     ]
    }
   ],
   "source": [
    "%%time\n",
    "clf = tree.DecisionTreeClassifier()\n",
    "clf.fit(X,y)\n",
    "answer1 = cross_validation.cross_val_score(clf,X,y,cv=10).mean()\n",
    "print(\"Ответ на первый вопрос: \", answer1)"
   ]
  },
  {
   "cell_type": "code",
   "execution_count": 5,
   "metadata": {
    "collapsed": false
   },
   "outputs": [],
   "source": [
    "def write_answer(string, answer):\n",
    "    with open(string, \"w\") as fout:\n",
    "        fout.write(str(answer))\n",
    "write_answer(\"answer_one.txt\", answer1)"
   ]
  },
  {
   "cell_type": "code",
   "execution_count": 6,
   "metadata": {
    "collapsed": false
   },
   "outputs": [
    {
     "name": "stdout",
     "output_type": "stream",
     "text": [
      "Ответ на второй вопрос:  0.924932941749\n",
      "CPU times: user 13.6 s, sys: 104 ms, total: 13.7 s\n",
      "Wall time: 13.8 s\n"
     ]
    }
   ],
   "source": [
    "%%time\n",
    "clf = ensemble.BaggingClassifier(n_estimators=100)\n",
    "clf.fit(X,y)\n",
    "answer2 = cross_validation.cross_val_score(clf,X,y,cv=10).mean()\n",
    "print(\"Ответ на второй вопрос: \", answer2)"
   ]
  },
  {
   "cell_type": "code",
   "execution_count": 7,
   "metadata": {
    "collapsed": true
   },
   "outputs": [],
   "source": [
    "write_answer(\"answer_two.txt\", answer2)"
   ]
  },
  {
   "cell_type": "code",
   "execution_count": 8,
   "metadata": {
    "collapsed": false
   },
   "outputs": [
    {
     "name": "stdout",
     "output_type": "stream",
     "text": [
      "Ответ на третий вопрос:  0.931609182967\n",
      "CPU times: user 3.53 s, sys: 41.1 ms, total: 3.58 s\n",
      "Wall time: 3.62 s\n"
     ]
    }
   ],
   "source": [
    "%%time\n",
    "clf = ensemble.BaggingClassifier(n_estimators=100,max_features=count_features)\n",
    "clf.fit(X,y)\n",
    "answer3 = cross_validation.cross_val_score(clf,X,y,cv=10).mean()\n",
    "print(\"Ответ на третий вопрос: \", answer3)"
   ]
  },
  {
   "cell_type": "code",
   "execution_count": 9,
   "metadata": {
    "collapsed": true
   },
   "outputs": [],
   "source": [
    "write_answer(\"answer_three.txt\", answer3)"
   ]
  },
  {
   "cell_type": "code",
   "execution_count": 10,
   "metadata": {
    "collapsed": false
   },
   "outputs": [
    {
     "name": "stdout",
     "output_type": "stream",
     "text": [
      "Ответ на four вопрос:  0.950071932333\n",
      "CPU times: user 3.91 s, sys: 47.4 ms, total: 3.96 s\n",
      "Wall time: 4.01 s\n"
     ]
    }
   ],
   "source": [
    "%%time\n",
    "clf = ensemble.BaggingClassifier(tree.DecisionTreeClassifier(max_features=count_features),n_estimators=100)\n",
    "clf.fit(X,y)\n",
    "answer4 = cross_validation.cross_val_score(clf,X,y,cv=10).mean()\n",
    "print(\"Ответ на four вопрос: \", answer4)"
   ]
  },
  {
   "cell_type": "code",
   "execution_count": 11,
   "metadata": {
    "collapsed": true
   },
   "outputs": [],
   "source": [
    "write_answer(\"answer_four.txt\", answer4)"
   ]
  },
  {
   "cell_type": "code",
   "execution_count": 12,
   "metadata": {
    "collapsed": false
   },
   "outputs": [
    {
     "name": "stdout",
     "output_type": "stream",
     "text": [
      "Ответ на пятый вопрос:  0.950532804126\n",
      "CPU times: user 3.27 s, sys: 30.4 ms, total: 3.3 s\n",
      "Wall time: 3.34 s\n"
     ]
    }
   ],
   "source": [
    "%%time\n",
    "clf = ensemble.RandomForestClassifier(n_estimators=100)\n",
    "clf.fit(X,y)\n",
    "answer5 = cross_validation.cross_val_score(clf,X,y,cv=10).mean()\n",
    "print(\"Ответ на пятый вопрос: \", answer5)"
   ]
  },
  {
   "cell_type": "code",
   "execution_count": 13,
   "metadata": {
    "collapsed": true
   },
   "outputs": [],
   "source": [
    "write_answer(\"answer_five.txt\", answer5)"
   ]
  },
  {
   "cell_type": "code",
   "execution_count": 33,
   "metadata": {
    "collapsed": false
   },
   "outputs": [
    {
     "data": {
      "text/plain": [
       "{'max_depth': array([  1,  37,  73, 110]),\n",
       " 'max_features': array([ 2,  4,  6,  8, 10, 12, 14, 16, 18, 20, 22, 24, 26, 28, 30]),\n",
       " 'n_estimators': array([ 20,  40,  60,  80, 100, 120, 140, 160, 180, 200])}"
      ]
     },
     "execution_count": 33,
     "metadata": {},
     "output_type": "execute_result"
    }
   ],
   "source": [
    "param_grid ={\n",
    "    'n_estimators': np.linspace(20, 200, 10, dtype=int),\n",
    "    'max_features': np.linspace(2, 30, 15, dtype=int),\n",
    "    'max_depth' : np.linspace(1, 110, 4, dtype=int),\n",
    "}\n",
    "\n",
    "param_grid"
   ]
  },
  {
   "cell_type": "code",
   "execution_count": 15,
   "metadata": {
    "collapsed": false
   },
   "outputs": [
    {
     "name": "stdout",
     "output_type": "stream",
     "text": [
      "[0.94442132477322072, 0.94777258799852881, 0.94832827908819706, 0.95444088683484163, 0.95103639005014651, 0.94941545081740109, 0.95053877128540287, 0.9539280174639625, 0.95387906172592252, 0.95277968522677514]\n",
      "CPU times: user 35.7 s, sys: 280 ms, total: 36 s\n",
      "Wall time: 36.3 s\n"
     ]
    }
   ],
   "source": [
    "%%time\n",
    "#Анализ алгоритма при изменении количества деревьев\n",
    "cross_val_cnt_trees = []\n",
    "for n_estimator in param_grid['n_estimators']:\n",
    "    clf = ensemble.RandomForestClassifier(n_estimators=n_estimator, max_features=count_features)\n",
    "    clf.fit(X, y)\n",
    "    cross_val_cnt_trees.append( cross_validation.cross_val_score(clf, X, y, cv=10).mean() )\n",
    "print(cross_val_cnt_trees)"
   ]
  },
  {
   "cell_type": "code",
   "execution_count": 26,
   "metadata": {
    "collapsed": false
   },
   "outputs": [
    {
     "data": {
      "text/plain": [
       "<matplotlib.text.Text at 0x1176b47f0>"
      ]
     },
     "execution_count": 26,
     "metadata": {},
     "output_type": "execute_result"
    },
    {
     "data": {
      "image/png": "[encoded data removed]",
      "text/plain": [
       "<matplotlib.figure.Figure at 0x1176fd470>"
      ]
     },
     "metadata": {},
     "output_type": "display_data"
    }
   ],
   "source": [
    "plt.plot(param_grid['n_estimators'], cross_val_cnt_trees, 'b-o')\n",
    "plt.xlabel('number of trees')\n",
    "plt.ylabel('cross val score')\n",
    "plt.title('RandomForest score')\n"
   ]
  },
  {
   "cell_type": "code",
   "execution_count": 27,
   "metadata": {
    "collapsed": false
   },
   "outputs": [
    {
     "name": "stdout",
     "output_type": "stream",
     "text": [
      "[0.95336964342923824, 0.9551163065557734, 0.9544519216094306, 0.94994639959041527, 0.95056715777170209, 0.95112059003151417, 0.95443256554406752, 0.94886623150874061, 0.94883771327336353, 0.94834674408362873, 0.94718598470006476, 0.94826918905039381, 0.94660873267748058, 0.94602557529077946, 0.94659122943106822]\n",
      "CPU times: user 1min 9s, sys: 778 ms, total: 1min 10s\n",
      "Wall time: 1min 11s\n"
     ]
    }
   ],
   "source": [
    "%%time\n",
    "#Анализ алгоритма при изменении количества фич\n",
    "cross_val_cnt_trees = []\n",
    "for max_features in param_grid['max_features']:\n",
    "    clf = ensemble.RandomForestClassifier(n_estimators=100, max_features=max_features)\n",
    "    clf.fit(X, y)\n",
    "    cross_val_cnt_trees.append( cross_validation.cross_val_score(clf, X, y, cv=10).mean() )\n",
    "print(cross_val_cnt_trees)"
   ]
  },
  {
   "cell_type": "code",
   "execution_count": 28,
   "metadata": {
    "collapsed": false
   },
   "outputs": [
    {
     "data": {
      "text/plain": [
       "<matplotlib.text.Text at 0x11dea20b8>"
      ]
     },
     "execution_count": 28,
     "metadata": {},
     "output_type": "execute_result"
    },
    {
     "data": {
      "image/png": "[encoded data removed]",
      "text/plain": [
       "<matplotlib.figure.Figure at 0x117720be0>"
      ]
     },
     "metadata": {},
     "output_type": "display_data"
    }
   ],
   "source": [
    "plt.plot(param_grid['max_features'], cross_val_cnt_trees, 'b-o')\n",
    "plt.xlabel('number of trees')\n",
    "plt.ylabel('cross val score')\n",
    "plt.title('RandomForest score')"
   ]
  },
  {
   "cell_type": "code",
   "execution_count": 36,
   "metadata": {
    "collapsed": false
   },
   "outputs": [
    {
     "name": "stdout",
     "output_type": "stream",
     "text": [
      "CPU times: user 11 s, sys: 116 ms, total: 11.1 s\n",
      "Wall time: 11.3 s\n"
     ]
    }
   ],
   "source": [
    "%%time\n",
    "#Анализ алгоритма при изменении глубины дерева\n",
    "cross_val_depth = []\n",
    "for depth in param_grid['max_depth']:\n",
    "    clf = ensemble.RandomForestClassifier(n_estimators=100, max_features=count_features, max_depth=depth)\n",
    "    clf.fit(X, y)\n",
    "    cross_val_depth.append( cross_validation.cross_val_score(clf, X, y, cv=10).mean() )"
   ]
  },
  {
   "cell_type": "code",
   "execution_count": 37,
   "metadata": {
    "collapsed": false
   },
   "outputs": [
    {
     "data": {
      "text/plain": [
       "<matplotlib.text.Text at 0x11f385d30>"
      ]
     },
     "execution_count": 37,
     "metadata": {},
     "output_type": "execute_result"
    },
    {
     "data": {
      "image/png": "[encoded data removed]",
      "text/plain": [
       "<matplotlib.figure.Figure at 0x11f35c828>"
      ]
     },
     "metadata": {},
     "output_type": "display_data"
    }
   ],
   "source": [
    "plt.plot(param_grid['max_depth'], cross_val_depth, 'b-o')\n",
    "plt.xlabel('depth')\n",
    "plt.ylabel('cross val score')\n",
    "plt.title('RandomForest score')"
   ]
  },
  {
   "cell_type": "code",
   "execution_count": 18,
   "metadata": {
    "collapsed": false
   },
   "outputs": [],
   "source": [
    "write_answer(\"answer_six.txt\", \"2 3 4 7\")"
   ]
  },
  {
   "cell_type": "code",
   "execution_count": null,
   "metadata": {
    "collapsed": true
   },
   "outputs": [],
   "source": []
  }
 ],
 "metadata": {
  "kernelspec": {
   "display_name": "Python 3",
   "language": "python",
   "name": "python3"
  },
  "language_info": {
   "codemirror_mode": {
    "name": "ipython",
    "version": 3
   },
   "file_extension": ".py",
   "mimetype": "text/x-python",
   "name": "python",
   "nbconvert_exporter": "python",
   "pygments_lexer": "ipython3",
   "version": "3.5.2"
  }
 },
 "nbformat": 4,
 "nbformat_minor": 0
}
