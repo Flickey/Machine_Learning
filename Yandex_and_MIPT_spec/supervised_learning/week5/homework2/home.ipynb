{
 "cells": [
  {
   "cell_type": "code",
   "execution_count": 3,
   "metadata": {
    "collapsed": false
   },
   "outputs": [],
   "source": [
    "%matplotlib inline\n",
    "from sklearn import datasets \n",
    "import matplotlib.pyplot as plt\n",
    "import numpy as np\n",
    "import pandas as pd"
   ]
  },
  {
   "cell_type": "code",
   "execution_count": 7,
   "metadata": {
    "collapsed": false
   },
   "outputs": [],
   "source": [
    "digits = datasets.load_digits()\n",
    "breast_cancer = datasets.load_breast_cancer()"
   ]
  },
  {
   "cell_type": "code",
   "execution_count": 17,
   "metadata": {
    "collapsed": false
   },
   "outputs": [],
   "source": [
    "X_d = digits.data\n",
    "y_d = digits.target\n",
    "X_b = breast_cancer.data\n",
    "y_b = breast_cancer.target"
   ]
  },
  {
   "cell_type": "code",
   "execution_count": 28,
   "metadata": {
    "collapsed": false
   },
   "outputs": [
    {
     "data": {
      "text/plain": [
       "[0.82582365077805819, 0.81860038035501381, 0.87087714897350532]"
      ]
     },
     "execution_count": 28,
     "metadata": {},
     "output_type": "execute_result"
    }
   ],
   "source": [
    "from sklearn import cross_validation, naive_bayes\n",
    "from sklearn.cross_validation import cross_val_score\n",
    "\n",
    "clf_ber = naive_bayes.BernoulliNB()\n",
    "clf_mult = naive_bayes.MultinomialNB()\n",
    "clf_gaus = naive_bayes.GaussianNB()\n",
    "clf_ber.fit(X_d,y_d)\n",
    "clf_gaus.fit(X_d,y_d)\n",
    "clf_mult.fit(X_d,y_d)\n",
    "scores_d = [cross_val_score(clf_ber,X_d,y_d).mean(),\n",
    "            cross_val_score(clf_gaus,X_d,y_d).mean(), \n",
    "            cross_val_score(clf_mult,X_d,y_d).mean()]\n",
    "scores_d"
   ]
  },
  {
   "cell_type": "markdown",
   "metadata": {},
   "source": [
    "Максимальное - 0.87087714897350532, MultinomialNB"
   ]
  },
  {
   "cell_type": "code",
   "execution_count": 29,
   "metadata": {
    "collapsed": false
   },
   "outputs": [
    {
     "data": {
      "text/plain": [
       "[0.62742040285899936, 0.9367492806089297, 0.89457904019307521]"
      ]
     },
     "execution_count": 29,
     "metadata": {},
     "output_type": "execute_result"
    }
   ],
   "source": [
    "clf_ber = naive_bayes.BernoulliNB()\n",
    "clf_mult = naive_bayes.MultinomialNB()\n",
    "clf_gaus = naive_bayes.GaussianNB()\n",
    "clf_ber.fit(X_b,y_b)\n",
    "clf_gaus.fit(X_b,y_b)\n",
    "clf_mult.fit(X_b,y_b)\n",
    "scores_b = [cross_val_score(clf_ber,X_b,y_b).mean(),\n",
    "            cross_val_score(clf_gaus,X_b,y_b).mean(), \n",
    "            cross_val_score(clf_mult,X_b,y_b).mean()]\n",
    "scores_b"
   ]
  },
  {
   "cell_type": "markdown",
   "metadata": {},
   "source": [
    "Максимальное - 0.9367492806089297, GaussianNB"
   ]
  },
  {
   "cell_type": "markdown",
   "metadata": {},
   "source": [
    "Выберите верные утверждения и запишите их номера через пробел (в порядке возрастания номера):\n",
    "\n",
    "1) На вещественных признаках лучше всего сработал наивный байесовский классификатор с распределением Бернулли\n",
    "\n",
    "2) На вещественных признаках лучше всего сработал наивный байесовский классификатор с мультиномиальным распределением\n",
    "\n",
    "3) Мультиномиальное распределение лучше показало себя на выборке с целыми неотрицательными значениями признаков\n",
    "\n",
    "4) На вещественных признаках лучше всего сработало нормальное распределение"
   ]
  },
  {
   "cell_type": "markdown",
   "metadata": {},
   "source": [
    "3 4"
   ]
  }
 ],
 "metadata": {
  "kernelspec": {
   "display_name": "Python 3",
   "language": "python",
   "name": "python3"
  },
  "language_info": {
   "codemirror_mode": {
    "name": "ipython",
    "version": 3
   },
   "file_extension": ".py",
   "mimetype": "text/x-python",
   "name": "python",
   "nbconvert_exporter": "python",
   "pygments_lexer": "ipython3",
   "version": "3.5.2"
  }
 },
 "nbformat": 4,
 "nbformat_minor": 0
}
